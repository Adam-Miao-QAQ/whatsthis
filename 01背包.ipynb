{
 "cells": [
  {
   "cell_type": "markdown",
   "id": "90fd9d14-6565-4051-b367-cf4f7216de5c",
   "metadata": {},
   "source": [
    "# 01背包问题\n",
    "> [P1048 采药](https://www.luogu.com.cn/problem/P1048)\n",
    "\n",
    "**题目描述（节选）**\n",
    "\n",
    "医师为了判断他的资质，给他出了一个难题。医师把他带到一个到处都是草药的山洞里对他说：“孩子，这个山洞里有一些不同的草药，采每一株都需要一些时间，每一株也有它自身的价值。我会给你一段时间，在这段时间里，你可以采到一些草药。如果你是一个聪明的孩子，你应该可以让采到的草药的总价值最大。”\n",
    "如果你是辰辰，你能完成这个任务吗？\n",
    "\n",
    "**【数据范围】**\n",
    "\n",
    "- 对于 $30\\%$ 的数据，$M \\le 10$；\n",
    "- 对于全部的数据，$M \\le 100$，$T \\le 1000$"
   ]
  },
  {
   "cell_type": "markdown",
   "id": "4ec16f28-ecbb-43ff-a46e-db812def6898",
   "metadata": {},
   "source": [
    "定义数组 $cost_i$, $value_i$ 分别用于存储第 $i$ 株草药的采集时间和价值："
   ]
  },
  {
   "cell_type": "code",
   "execution_count": 1,
   "id": "ea2ce4e4-4cd1-4c19-a210-e7c0db2d6b03",
   "metadata": {
    "tags": []
   },
   "outputs": [
    {
     "name": "stdin",
     "output_type": "stream",
     "text": [
      " 71 3\n",
      " 72 1000\n",
      " 70 1\n",
      " 1 2\n"
     ]
    }
   ],
   "source": [
    "T, M = map(int, input().split())\n",
    "\n",
    "cost = list()\n",
    "value = list()\n",
    "\n",
    "for i in range(M):\n",
    "    c, v = map(int, input().split())\n",
    "    cost.append(c)\n",
    "    value.append(v)"
   ]
  },
  {
   "cell_type": "markdown",
   "id": "eca0ba86-23b6-43c5-bb8e-6357585c2d4c",
   "metadata": {},
   "source": [
    "\n",
    "对于本题，我们可以定义一个二维数组 $DP_{i,\\ j}$ 来表示采集前 $i$ 株草药、总共拥有 $j$ 的时间的时候，能采到的草药价值最大值\n",
    "\n",
    "则答案即为 $DP_{M-1, T}$\n",
    "\n",
    "那么对于第一株草药（下标为 $0$）来讲：\n",
    "- 如果剩余的时间不足以采集这株草药，那么总价值只能是 $0$\n",
    "- 如果剩余的时间足够采集这株草药，由于仅剩这一株草药可以采，则必然要采集，此时总价值即为 $value_0$\n",
    "\n",
    "代码如下："
   ]
  },
  {
   "cell_type": "code",
   "execution_count": 2,
   "id": "5bac44b7-f811-4aa3-b23b-cdbbb08734c0",
   "metadata": {
    "tags": []
   },
   "outputs": [],
   "source": [
    "dp = [[0 for i in range(T+1)] for j in range(M)]\n",
    "\n",
    "for i in range(T + 1):\n",
    "    if i < cost[0]:\n",
    "        dp[0][i] = 0\n",
    "    else:\n",
    "        dp[0][i] = value[i]"
   ]
  },
  {
   "cell_type": "markdown",
   "id": "25e12f5b-56b0-4431-bc71-e43dfa5aa746",
   "metadata": {},
   "source": [
    "接下来，我们遍历 $i$ 从第二株草药到最后一株草药，对于每一种剩余时间 $j$：\n",
    "- 如果剩余的时间不足以采集当前这株草药，那么就直接从前一株开始采，最后总价值也就是用同样的时间从前一株开始采的总价值\n",
    "    即 $DP_{i-1, j}$\n",
    "- 如果剩余的时间足够采集当前这株草药，那么由两种可能：\n",
    "    - 不采集这株草药，总价值就是用同样的时间从前一株开始采的总价值\n",
    "        即 $DP_{i-1, j}$\n",
    "    - 采集这株药，那么采集完成后可以用剩余的时间从前一株开始采，总价值是它们的和\n",
    "        即 $DP_{i-1, j-cost_i}+value_i$\n",
    "        \n",
    "    最大总价值会从这两种产生"
   ]
  },
  {
   "cell_type": "code",
   "execution_count": 3,
   "id": "a2a22ce0-3ba6-4f0a-a424-bffffb1fdcc0",
   "metadata": {
    "tags": []
   },
   "outputs": [],
   "source": [
    "for i in range(1, M):\n",
    "    for j in range(T + 1):\n",
    "        if j < cost[i]:\n",
    "            dp[i][j] = dp[i-1][j]\n",
    "        else:\n",
    "            dp[i][j] = max(dp[i-1][j], value[i] + dp[i-1][j-cost[i]])"
   ]
  },
  {
   "cell_type": "markdown",
   "id": "611572c3-2daf-4e49-a74f-1c701b3b6ff1",
   "metadata": {},
   "source": [
    "输出答案"
   ]
  },
  {
   "cell_type": "code",
   "execution_count": 4,
   "id": "1af6ccef-47fa-41af-ab0c-bf8768486e9a",
   "metadata": {
    "tags": []
   },
   "outputs": [
    {
     "name": "stdout",
     "output_type": "stream",
     "text": [
      "3\n"
     ]
    }
   ],
   "source": [
    "print(dp[M-1][T])"
   ]
  },
  {
   "cell_type": "markdown",
   "id": "410829a4-532b-45eb-b7a6-d49c4152ccd5",
   "metadata": {},
   "source": [
    "以上代码可以正常运行，但有个问题—— $DP$ 数组可能会非常大\n",
    "\n",
    "所以我们准备修改 $DP$ 数组，使它的空间减小"
   ]
  },
  {
   "cell_type": "markdown",
   "id": "02a78e0e-7bd4-4ac0-b39d-ec76a533907a",
   "metadata": {},
   "source": [
    "我们可以发现，每一次修改 $DP_{i, j}$ 的值时，我们只会使用到数组 $DP_{i-1}$ 中的值，且第二下标的值不小于 $j$\n",
    "\n",
    "所以我们完全不需要存储除 $i-1$ 这一行以外的其他数据\n",
    "\n",
    "将 $DP$ 改为一维数组，其每次存储的值都是上次修改后的值，为原 $i-1$ 行的值\n",
    "\n",
    "**这里需要注意：由于其下标不小于当前下标，所以须从后向前遍历，才不会使用刚刚修改过的、原 $i$ 行的值**\n",
    "\n",
    "修改代码如下："
   ]
  },
  {
   "cell_type": "code",
   "execution_count": 5,
   "id": "1edfa9c1-ad5d-487c-bdc2-e058cd6a8361",
   "metadata": {
    "tags": []
   },
   "outputs": [],
   "source": [
    "dp = [0 for i in range(T+1)]\n",
    "\n",
    "for i in range(T + 1):\n",
    "    if i < cost[0]:   # 请注意这里，i 只有从 cost[0] 开始才会修改dp的值，遍历前 cost[0] 个值没有必要\n",
    "        dp[i] = 0\n",
    "    else:\n",
    "        dp[i] = value[i]\n",
    "        \n",
    "for i in range(1, M):\n",
    "    for j in range(T, 0, -1):  # j=0 时一定无可采集，0即可\n",
    "        if j < cost[i]:\n",
    "            dp[j] = dp[j]  # 这是一句没有用的语句\n",
    "        else:\n",
    "            dp[j] = max(dp[j], value[i] + dp[j-cost[i]])"
   ]
  },
  {
   "cell_type": "markdown",
   "id": "aafd96ba-b3e1-45c9-944d-36685c8a0302",
   "metadata": {
    "tags": []
   },
   "source": [
    "我在上面的代码中标注了几处可以删除的语句，现在我们把它修改成这样："
   ]
  },
  {
   "cell_type": "code",
   "execution_count": 6,
   "id": "f6a6c087-a550-4330-af5f-3c9ebb7d1c13",
   "metadata": {
    "tags": []
   },
   "outputs": [],
   "source": [
    "dp = [0 for i in range(T+1)]\n",
    "\n",
    "for i in range(cost[0], T + 1):\n",
    "    dp[i] = value[0]\n",
    "        \n",
    "for i in range(1, M):\n",
    "    for j in range(T, cost[i] - 1, -1):\n",
    "        dp[j] = max(dp[j], value[i] + dp[j-cost[i]])"
   ]
  },
  {
   "cell_type": "markdown",
   "id": "b74fcbed-1aab-4ebe-bce8-9e4ccc030a82",
   "metadata": {
    "tags": []
   },
   "source": [
    "别忘了输出："
   ]
  },
  {
   "cell_type": "code",
   "execution_count": 7,
   "id": "24211c19-cf07-4465-bde7-e75e1f987b11",
   "metadata": {
    "tags": []
   },
   "outputs": [
    {
     "name": "stdout",
     "output_type": "stream",
     "text": [
      "3\n"
     ]
    }
   ],
   "source": [
    "print(dp[T])"
   ]
  },
  {
   "cell_type": "markdown",
   "id": "1c6a090a-b208-413d-be2a-3d27ccad949c",
   "metadata": {},
   "source": [
    "最终代码:"
   ]
  },
  {
   "cell_type": "code",
   "execution_count": 9,
   "id": "e516f852-93f1-4b74-ae3a-900111858295",
   "metadata": {
    "tags": []
   },
   "outputs": [
    {
     "name": "stdin",
     "output_type": "stream",
     "text": [
      " 70 3\n",
      " 71 100\n",
      " 1 1\n",
      " 69 2\n"
     ]
    },
    {
     "name": "stdout",
     "output_type": "stream",
     "text": [
      "3\n"
     ]
    }
   ],
   "source": [
    "T, M = map(int, input().split())\n",
    "\n",
    "cost = list()\n",
    "value = list()\n",
    "\n",
    "for i in range(M):\n",
    "    c, v = map(int, input().split())\n",
    "    cost.append(c)\n",
    "    value.append(v)\n",
    "    \n",
    "dp = [0 for i in range(T+1)]\n",
    "\n",
    "for i in range(cost[0], T + 1):\n",
    "    dp[i] = value[0]\n",
    "        \n",
    "for i in range(1, M):\n",
    "    for j in range(T, cost[i] - 1, -1):\n",
    "        dp[j] = max(dp[j], value[i] + dp[j-cost[i]])\n",
    "        \n",
    "print(dp[T])"
   ]
  },
  {
   "cell_type": "markdown",
   "id": "edbefa37-628d-4b82-be55-f01f09ec0fdf",
   "metadata": {},
   "source": [
    "![这是什么？](https://cdn.luogu.com.cn/upload/image_hosting/ar0mwgv8.png)\n",
    "\n",
    "> 话说 Python 的内存占用时真的大"
   ]
  }
 ],
 "metadata": {
  "kernelspec": {
   "display_name": "Python 3 (ipykernel)",
   "language": "python",
   "name": "python3"
  },
  "language_info": {
   "codemirror_mode": {
    "name": "ipython",
    "version": 3
   },
   "file_extension": ".py",
   "mimetype": "text/x-python",
   "name": "python",
   "nbconvert_exporter": "python",
   "pygments_lexer": "ipython3",
   "version": "3.9.17"
  }
 },
 "nbformat": 4,
 "nbformat_minor": 5
}
